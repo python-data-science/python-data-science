{
 "cells": [
  {
   "cell_type": "code",
   "execution_count": 28,
   "metadata": {},
   "outputs": [],
   "source": [
    "import pandas as pd\n",
    "from sklearn.datasets import load_boston\n",
    "from sklearn.ensemble import GradientBoostingRegressor\n",
    "from sklearn.model_selection import train_test_split\n",
    "from sklearn.model_selection import KFold\n",
    "import numpy as np"
   ]
  },
  {
   "cell_type": "code",
   "execution_count": 29,
   "metadata": {},
   "outputs": [
    {
     "name": "stdout",
     "output_type": "stream",
     "text": [
      "Boston House Prices dataset\n",
      "===========================\n",
      "\n",
      "Notes\n",
      "------\n",
      "Data Set Characteristics:  \n",
      "\n",
      "    :Number of Instances: 506 \n",
      "\n",
      "    :Number of Attributes: 13 numeric/categorical predictive\n",
      "    \n",
      "    :Median Value (attribute 14) is usually the target\n",
      "\n",
      "    :Attribute Information (in order):\n",
      "        - CRIM     per capita crime rate by town\n",
      "        - ZN       proportion of residential land zoned for lots over 25,000 sq.ft.\n",
      "        - INDUS    proportion of non-retail business acres per town\n",
      "        - CHAS     Charles River dummy variable (= 1 if tract bounds river; 0 otherwise)\n",
      "        - NOX      nitric oxides concentration (parts per 10 million)\n",
      "        - RM       average number of rooms per dwelling\n",
      "        - AGE      proportion of owner-occupied units built prior to 1940\n",
      "        - DIS      weighted distances to five Boston employment centres\n",
      "        - RAD      index of accessibility to radial highways\n",
      "        - TAX      full-value property-tax rate per $10,000\n",
      "        - PTRATIO  pupil-teacher ratio by town\n",
      "        - B        1000(Bk - 0.63)^2 where Bk is the proportion of blacks by town\n",
      "        - LSTAT    % lower status of the population\n",
      "        - MEDV     Median value of owner-occupied homes in $1000's\n",
      "\n",
      "    :Missing Attribute Values: None\n",
      "\n",
      "    :Creator: Harrison, D. and Rubinfeld, D.L.\n",
      "\n",
      "This is a copy of UCI ML housing dataset.\n",
      "http://archive.ics.uci.edu/ml/datasets/Housing\n",
      "\n",
      "\n",
      "This dataset was taken from the StatLib library which is maintained at Carnegie Mellon University.\n",
      "\n",
      "The Boston house-price data of Harrison, D. and Rubinfeld, D.L. 'Hedonic\n",
      "prices and the demand for clean air', J. Environ. Economics & Management,\n",
      "vol.5, 81-102, 1978.   Used in Belsley, Kuh & Welsch, 'Regression diagnostics\n",
      "...', Wiley, 1980.   N.B. Various transformations are used in the table on\n",
      "pages 244-261 of the latter.\n",
      "\n",
      "The Boston house-price data has been used in many machine learning papers that address regression\n",
      "problems.   \n",
      "     \n",
      "**References**\n",
      "\n",
      "   - Belsley, Kuh & Welsch, 'Regression diagnostics: Identifying Influential Data and Sources of Collinearity', Wiley, 1980. 244-261.\n",
      "   - Quinlan,R. (1993). Combining Instance-Based and Model-Based Learning. In Proceedings on the Tenth International Conference of Machine Learning, 236-243, University of Massachusetts, Amherst. Morgan Kaufmann.\n",
      "   - many more! (see http://archive.ics.uci.edu/ml/datasets/Housing)\n",
      "\n"
     ]
    }
   ],
   "source": [
    "boston = load_boston()\n",
    "print(boston.DESCR)"
   ]
  },
  {
   "cell_type": "code",
   "execution_count": 30,
   "metadata": {},
   "outputs": [
    {
     "data": {
      "text/plain": [
       "array(['CRIM', 'ZN', 'INDUS', 'CHAS', 'NOX', 'RM', 'AGE', 'DIS', 'RAD',\n",
       "       'TAX', 'PTRATIO', 'B', 'LSTAT'],\n",
       "      dtype='<U7')"
      ]
     },
     "execution_count": 30,
     "metadata": {},
     "output_type": "execute_result"
    }
   ],
   "source": [
    "boston.feature_names"
   ]
  },
  {
   "cell_type": "code",
   "execution_count": 31,
   "metadata": {},
   "outputs": [
    {
     "data": {
      "text/plain": [
       "(506, 13)"
      ]
     },
     "execution_count": 31,
     "metadata": {},
     "output_type": "execute_result"
    }
   ],
   "source": [
    "y = boston.target\n",
    "X = boston.data\n",
    "X.shape"
   ]
  },
  {
   "cell_type": "code",
   "execution_count": 32,
   "metadata": {},
   "outputs": [],
   "source": [
    "X_train, X_test, y_train, y_test = train_test_split(X, y, test_size=0.33, random_state=42)"
   ]
  },
  {
   "cell_type": "code",
   "execution_count": 33,
   "metadata": {},
   "outputs": [],
   "source": [
    "# run cross validation with KFold and search through a few hyper-parameters to get a better r2 value.\n",
    "model = GradientBoostingRegressor().fit(X_train, y_train)"
   ]
  },
  {
   "cell_type": "code",
   "execution_count": 34,
   "metadata": {},
   "outputs": [
    {
     "data": {
      "text/plain": [
       "0.8951385695511348"
      ]
     },
     "execution_count": 34,
     "metadata": {},
     "output_type": "execute_result"
    }
   ],
   "source": [
    "model.score(X_test, y_test)"
   ]
  },
  {
   "cell_type": "code",
   "execution_count": 35,
   "metadata": {},
   "outputs": [
    {
     "data": {
      "text/plain": [
       "array([ 0.08051985,  0.00291911,  0.0468287 ,  0.00498263,  0.04201283,\n",
       "        0.20162251,  0.10572856,  0.13046557,  0.02030772,  0.07321047,\n",
       "        0.05522933,  0.06367674,  0.17249599])"
      ]
     },
     "execution_count": 35,
     "metadata": {},
     "output_type": "execute_result"
    }
   ],
   "source": [
    "model.feature_importances_"
   ]
  },
  {
   "cell_type": "code",
   "execution_count": 36,
   "metadata": {},
   "outputs": [
    {
     "data": {
      "text/plain": [
       "array(['CRIM', 'ZN', 'INDUS', 'CHAS', 'NOX', 'RM', 'AGE', 'DIS', 'RAD',\n",
       "       'TAX', 'PTRATIO', 'B', 'LSTAT'],\n",
       "      dtype='<U7')"
      ]
     },
     "execution_count": 36,
     "metadata": {},
     "output_type": "execute_result"
    }
   ],
   "source": [
    "boston.feature_names"
   ]
  },
  {
   "cell_type": "code",
   "execution_count": 52,
   "metadata": {},
   "outputs": [
    {
     "name": "stdout",
     "output_type": "stream",
     "text": [
      "depth: 1 estimators: 100 scores: 0.526570364061 min: 0.211776889498 max: 0.848306590675\n",
      "depth: 2 estimators: 100 scores: 0.578030789459 min: 0.228141067528 max: 0.831927105549\n",
      "depth: 3 estimators: 100 scores: 0.579169589295 min: 0.269419992912 max: 0.831169114272\n",
      "depth: 1 estimators: 200 scores: 0.546699038169 min: 0.24886843611 max: 0.831402118158\n",
      "depth: 2 estimators: 200 scores: 0.576409687693 min: 0.216313002708 max: 0.826053360508\n",
      "depth: 3 estimators: 200 scores: 0.561614941321 min: 0.253606743986 max: 0.798512678834\n",
      "depth: 1 estimators: 300 scores: 0.544126976099 min: 0.250374222591 max: 0.803719640266\n",
      "depth: 2 estimators: 300 scores: 0.569506672404 min: 0.207285299927 max: 0.811242530235\n",
      "depth: 3 estimators: 300 scores: 0.558393784894 min: 0.249081589141 max: 0.79911491835\n",
      "depth: 1 estimators: 400 scores: 0.540777328167 min: 0.245571411797 max: 0.790152735152\n",
      "depth: 2 estimators: 400 scores: 0.570350975795 min: 0.205233171361 max: 0.807516584669\n",
      "depth: 3 estimators: 400 scores: 0.55517103294 min: 0.22721998345 max: 0.79981237438\n",
      "depth: 1 estimators: 500 scores: 0.534296098317 min: 0.241988552337 max: 0.770786468278\n",
      "depth: 2 estimators: 500 scores: 0.566519256914 min: 0.20837437646 max: 0.799839016483\n",
      "depth: 3 estimators: 500 scores: 0.560421128625 min: 0.244178307293 max: 0.791207727623\n",
      "depth: 1 estimators: 600 scores: 0.52896501176 min: 0.235031487096 max: 0.76027443372\n",
      "depth: 2 estimators: 600 scores: 0.561326638616 min: 0.207191153243 max: 0.787749831288\n",
      "depth: 3 estimators: 600 scores: 0.559567929114 min: 0.232313762954 max: 0.804499558589\n",
      "depth: 1 estimators: 700 scores: 0.523082877064 min: 0.228053738694 max: 0.749503995505\n",
      "depth: 2 estimators: 700 scores: 0.559927963015 min: 0.195869946428 max: 0.784545836657\n",
      "depth: 3 estimators: 700 scores: 0.555612160605 min: 0.220831824949 max: 0.794507582408\n",
      "depth: 1 estimators: 800 scores: 0.517351386266 min: 0.22321798144 max: 0.737469054319\n",
      "depth: 2 estimators: 800 scores: 0.55905405904 min: 0.195146122167 max: 0.78628195956\n",
      "depth: 3 estimators: 800 scores: 0.557894482863 min: 0.230786668862 max: 0.801044324084\n",
      "depth: 1 estimators: 900 scores: 0.513630787256 min: 0.21979282038 max: 0.72899833669\n",
      "depth: 2 estimators: 900 scores: 0.555807576447 min: 0.190033801845 max: 0.779762629409\n",
      "depth: 3 estimators: 900 scores: 0.555160487217 min: 0.232844957165 max: 0.791239296102\n"
     ]
    }
   ],
   "source": [
    "cv = KFold(n_splits=3)\n",
    "for estimators in range(100, 1000, 100):\n",
    "    for depth in range(1, 4):\n",
    "        model = GradientBoostingRegressor(n_estimators=estimators, max_depth=depth)\n",
    "        scores = []\n",
    "        for train_i, test_i in cv.split(X):\n",
    "            Xr, yr, Xt, yt = X[train_i], y[train_i], X[test_i], y[test_i]\n",
    "            model.fit(Xr, yr)\n",
    "            scores.append(model.score(Xt, yt))\n",
    "        print('depth:', depth, 'estimators:', estimators, 'scores:', sum(scores)/len(scores), 'min:', min(scores), 'max:', max(scores))"
   ]
  },
  {
   "cell_type": "code",
   "execution_count": 51,
   "metadata": {},
   "outputs": [
    {
     "data": {
      "text/plain": [
       "(506, 13)"
      ]
     },
     "execution_count": 51,
     "metadata": {},
     "output_type": "execute_result"
    }
   ],
   "source": [
    "X.shape"
   ]
  },
  {
   "cell_type": "code",
   "execution_count": null,
   "metadata": {},
   "outputs": [],
   "source": []
  }
 ],
 "metadata": {
  "kernelspec": {
   "display_name": "Python 3",
   "language": "python",
   "name": "python3"
  },
  "language_info": {
   "codemirror_mode": {
    "name": "ipython",
    "version": 3
   },
   "file_extension": ".py",
   "mimetype": "text/x-python",
   "name": "python",
   "nbconvert_exporter": "python",
   "pygments_lexer": "ipython3",
   "version": "3.6.3"
  }
 },
 "nbformat": 4,
 "nbformat_minor": 2
}
